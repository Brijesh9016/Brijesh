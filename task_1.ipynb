{
 "cells": [
  {
   "cell_type": "code",
   "execution_count": 1,
   "id": "bc867f77",
   "metadata": {},
   "outputs": [
    {
     "name": "stdout",
     "output_type": "stream",
     "text": [
      "Data saved to books.csv and books.json\n"
     ]
    }
   ],
   "source": [
    "import requests\n",
    "from bs4 import BeautifulSoup\n",
    "import pandas as pd\n",
    "\n",
    "# Function to get the HTML content of the webpage\n",
    "def get_html(url):\n",
    "    response = requests.get(url)\n",
    "    if response.status_code == 200:\n",
    "        return response.text\n",
    "    else:\n",
    "        return None\n",
    "\n",
    "# Function to parse the HTML content and extract data\n",
    "def parse_html(html):\n",
    "    soup = BeautifulSoup(html, 'html.parser')\n",
    "    books = []\n",
    "    for book in soup.find_all('article', class_='product_pod'):\n",
    "        title = book.h3.a['title']\n",
    "        price = book.find('p', class_='price_color').text\n",
    "        books.append({'title': title, 'price': price})\n",
    "    return books\n",
    "\n",
    "# Function to save the data in CSV format\n",
    "def save_to_csv(data, filename):\n",
    "    df = pd.DataFrame(data)\n",
    "    df.to_csv(filename, index=False)\n",
    "\n",
    "# Function to save the data in JSON format\n",
    "def save_to_json(data, filename):\n",
    "    df = pd.DataFrame(data)\n",
    "    df.to_json(filename, orient='records', indent=4)\n",
    "\n",
    "# Main function to run the web scraping\n",
    "def main():\n",
    "    url = 'http://books.toscrape.com/'\n",
    "    html = get_html(url)\n",
    "    if html:\n",
    "        books = parse_html(html)\n",
    "        save_to_csv(books, 'books.csv')\n",
    "        save_to_json(books, 'books.json')\n",
    "        print(f\"Data saved to books.csv and books.json\")\n",
    "    else:\n",
    "        print(\"Failed to retrieve the webpage\")\n",
    "\n",
    "if __name__ == \"__main__\":\n",
    "    main()\n"
   ]
  },
  {
   "cell_type": "code",
   "execution_count": 2,
   "id": "a1d5a36c",
   "metadata": {},
   "outputs": [],
   "source": []
  }
 ],
 "metadata": {
  "kernelspec": {
   "display_name": "Python 3 (ipykernel)",
   "language": "python",
   "name": "python3"
  },
  "language_info": {
   "codemirror_mode": {
    "name": "ipython",
    "version": 3
   },
   "file_extension": ".py",
   "mimetype": "text/x-python",
   "name": "python",
   "nbconvert_exporter": "python",
   "pygments_lexer": "ipython3",
   "version": "3.11.5"
  }
 },
 "nbformat": 4,
 "nbformat_minor": 5
}
